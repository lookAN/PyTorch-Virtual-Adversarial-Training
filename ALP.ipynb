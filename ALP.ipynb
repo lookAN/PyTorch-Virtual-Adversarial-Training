{
 "cells": [
  {
   "cell_type": "code",
   "execution_count": 131,
   "metadata": {
    "code_folding": [],
    "collapsed": true
   },
   "outputs": [],
   "source": [
    "# Imports\n",
    "import random\n",
    "import numpy as np\n",
    "import matplotlib.pyplot as plt\n",
    "from sklearn.datasets import fetch_mldata\n",
    "from sklearn.utils import shuffle\n",
    "\n",
    "import torch\n",
    "import torch.nn as nn\n",
    "import torch.nn.functional as F\n",
    "import torch.optim as optim\n",
    "from torch.autograd import Variable\n",
    "\n",
    "from tqdm import tqdm\n",
    "\n",
    "%matplotlib inline\n"
   ]
  },
  {
   "cell_type": "code",
   "execution_count": 132,
   "metadata": {
    "code_folding": [],
    "collapsed": true
   },
   "outputs": [],
   "source": [
    "# Load MNIST and shuffle\n",
    "mnist = fetch_mldata('MNIST original', data_home=\"mnist/mnist\")\n",
    "\n",
    "x = mnist[\"data\"]\n",
    "y = mnist[\"target\"]\n",
    "\n",
    "x = x.reshape(-1, 1, 28, 28)\n",
    "x = x.astype(np.float32)\n",
    "x /= x.max()\n",
    "\n",
    "y = y.astype(np.int)\n",
    "\n",
    "x, y = shuffle(x, y, random_state=0)"
   ]
  },
  {
   "cell_type": "code",
   "execution_count": 133,
   "metadata": {
    "code_folding": [],
    "collapsed": true
   },
   "outputs": [],
   "source": [
    "# Def Net\n",
    "class Net(nn.Module):\n",
    "    def __init__(self):\n",
    "        super(Net, self).__init__()\n",
    "        self.dr_rate = 0.3\n",
    "        \n",
    "        self.conv1 = nn.Conv2d(in_channels=1,\n",
    "                               out_channels=32, \n",
    "                               kernel_size=3, \n",
    "                               stride=2,\n",
    "                               padding=1)\n",
    "        self.bn1 = nn.BatchNorm2d(32)\n",
    "        \n",
    "        self.conv2 = nn.Conv2d(in_channels=32,\n",
    "                               out_channels=64, \n",
    "                               kernel_size=3, \n",
    "                               stride=2,\n",
    "                               padding=1)\n",
    "        self.bn2 = nn.BatchNorm2d(64)\n",
    "        \n",
    "        self.conv3 = nn.Conv2d(in_channels=64,\n",
    "                               out_channels=128, \n",
    "                               kernel_size=3, \n",
    "                               stride=2,\n",
    "                               padding=1)\n",
    "        self.bn3 = nn.BatchNorm2d(128)\n",
    "        \n",
    "        self.fc1 = nn.Linear(in_features=128 * 4 * 4, \n",
    "                             out_features=512)\n",
    "        \n",
    "        self.fc2 = nn.Linear(in_features=512,\n",
    "                             out_features=10)\n",
    "\n",
    "    \n",
    "    def dr_rate(self, dr_rate):\n",
    "        self.dr_rate = dr_rate\n",
    "\n",
    "    def forward(self, x):\n",
    "        dropout = nn.Dropout(p=self.dr_rate)\n",
    "        # Convolutional Part\n",
    "        x = dropout(F.leaky_relu(self.conv1(x), negative_slope=.1))\n",
    "        x = self.bn1(x)\n",
    "        x = dropout(F.leaky_relu(self.conv2(x), negative_slope=.1))\n",
    "        x = self.bn2(x)\n",
    "        x = dropout(F.leaky_relu(self.conv3(x), negative_slope=.1))\n",
    "        x = self.bn3(x)\n",
    "        \n",
    "        # Flatten\n",
    "        x = x.view(-1, 128 * 4 * 4)\n",
    "        # Dense Layers\n",
    "        x = dropout(F.relu(self.fc1(x)))\n",
    "        x = self.fc2(x)\n",
    "        return x"
   ]
  },
  {
   "cell_type": "code",
   "execution_count": 134,
   "metadata": {
    "code_folding": [],
    "collapsed": true
   },
   "outputs": [],
   "source": [
    "# Def Generator\n",
    "class Generator(object):\n",
    "    def __init__(self, x, y, start=0, end=1, batch_size=8):\n",
    "        self.x = x\n",
    "        self.y = y\n",
    "        self.start = start\n",
    "        self.end = end\n",
    "        self.batch_size = batch_size\n",
    "        self._get_ids()\n",
    "        \n",
    "    def _get_ids(self):\n",
    "        \"\"\"\n",
    "        Select Element from start to end\n",
    "        \"\"\"\n",
    "        max_len = self.x.shape[0]\n",
    "        first_element = self.start * max_len\n",
    "        self.first_element = int(first_element)\n",
    "        last_element = self.end * max_len\n",
    "        self.last_element = int(last_element)\n",
    "        self._ids = np.arange(self.first_element, self.last_element)\n",
    "        self.x = self.x[self.first_element:self.last_element]\n",
    "        self.y = self.y[self.first_element:self.last_element]\n",
    "    \n",
    "    def _make_pop_list(self):\n",
    "        \"\"\"\n",
    "        Creates a popable List\n",
    "        \"\"\"\n",
    "        self.pop_list = np.copy(self._ids-self.first_element)\n",
    "        np.random.shuffle(self.pop_list)\n",
    "        self.pop_list_len = int(len(self.pop_list)/self.batch_size) * self.batch_size\n",
    "        self.pop_list = self.pop_list[0:self.pop_list_len]\n",
    "        self.pop_list = self.pop_list.reshape(-1, self.batch_size)\n",
    "        self.pop_list = list(self.pop_list)\n",
    "    \n",
    "    def __next__(self):\n",
    "        try:\n",
    "            ids = self.pop_list.pop()\n",
    "        except:\n",
    "            self._make_pop_list()\n",
    "            ids = self.pop_list.pop()\n",
    "        return self.x[ids], self.y[ids]\n",
    "            "
   ]
  },
  {
   "cell_type": "code",
   "execution_count": 135,
   "metadata": {
    "code_folding": [],
    "collapsed": true
   },
   "outputs": [],
   "source": [
    "# Def Tracking\n",
    "def get_history(network, generator):\n",
    "    x_test, y_test = next(generator) \n",
    "    x_test = Variable(torch.from_numpy(x_test).cuda())\n",
    "    y_test = Variable(torch.from_numpy(y_test).cuda())\n",
    "\n",
    "    y_pred = net(x_test)\n",
    "    \n",
    "    _, predicted = torch.max(y_pred.data, 1)\n",
    "    num_correct = (predicted == y_test.data).sum()\n",
    "    acc = num_correct / batch_size\n",
    "    \n",
    "    loss = criterion(y_pred, y_test)\n",
    "    return float(acc), float(loss.data)"
   ]
  },
  {
   "cell_type": "code",
   "execution_count": 136,
   "metadata": {
    "code_folding": [],
    "collapsed": true,
    "scrolled": true
   },
   "outputs": [],
   "source": [
    "# Def ALP-Functions\n",
    "def get_noise(shape):\n",
    "    epsilon = 1e-16 # numerical stability\n",
    "    d = torch.randn(shape)\n",
    "    d = l2_norm(d)\n",
    "    d = Variable(d.cuda())\n",
    "    d.requires_grad=True\n",
    "    return d\n",
    "\n",
    "def l2_norm(d):\n",
    "    norm = torch.sum((d ** 2).view(batch_size,-1),dim=1)\n",
    "    norm = torch.sqrt(norm + 0.000001)\n",
    "    d /= norm.view(-1,1,1,1)\n",
    "    return d\n",
    "\n",
    "def ln_norm(d):\n",
    "    norm = torch.max((d).view(batch_size,-1),dim=1)[0]\n",
    "    d /= norm.view(-1,1,1,1)\n",
    "    return d"
   ]
  },
  {
   "cell_type": "code",
   "execution_count": 137,
   "metadata": {
    "collapsed": true
   },
   "outputs": [],
   "source": [
    "# Globale Variables\n",
    "batch_size = 8\n",
    "n_steps = 10000"
   ]
  },
  {
   "cell_type": "code",
   "execution_count": 151,
   "metadata": {
    "collapsed": true
   },
   "outputs": [],
   "source": [
    "# ALP Variables\n",
    "ALP = True\n",
    "w_noise = 1 # noise *= w\n",
    "w_attack = 1  # weight for attack"
   ]
  },
  {
   "cell_type": "code",
   "execution_count": 160,
   "metadata": {
    "code_folding": [],
    "collapsed": true
   },
   "outputs": [],
   "source": [
    "# Create Network\n",
    "net = Net()\n",
    "net.cuda();"
   ]
  },
  {
   "cell_type": "code",
   "execution_count": 161,
   "metadata": {
    "code_folding": [],
    "collapsed": true
   },
   "outputs": [],
   "source": [
    "# Create Generators\n",
    "generator_train = Generator(x=x, y=y, start=0, end=0.001, batch_size=batch_size)\n",
    "generator_alp = Generator(x=x, y=y, start=0.1, end=0.4, batch_size=batch_size)\n",
    "generator_test = Generator(x=x, y=y, start=0.5, end=1, batch_size=batch_size)"
   ]
  },
  {
   "cell_type": "code",
   "execution_count": 162,
   "metadata": {
    "code_folding": [],
    "collapsed": true
   },
   "outputs": [],
   "source": [
    "# Create Loss\n",
    "criterion = nn.CrossEntropyLoss()\n",
    "net_optimizer = optim.RMSprop(net.parameters(), lr=0.0001)\n",
    "l2_loss = nn.MSELoss()\n",
    "kl_div = nn.KLDivLoss()"
   ]
  },
  {
   "cell_type": "code",
   "execution_count": 163,
   "metadata": {
    "code_folding": []
   },
   "outputs": [
    {
     "name": "stderr",
     "output_type": "stream",
     "text": [
      "  0%|          | 0/10000 [00:00<?, ?it/s]/mnt/fs2/home/alook/anaconda2/envs/torch/lib/python3.6/site-packages/ipykernel_launcher.py:24: UserWarning: Implicit dimension choice for softmax has been deprecated. Change the call to include dim=X as an argument.\n",
      "/mnt/fs2/home/alook/anaconda2/envs/torch/lib/python3.6/site-packages/ipykernel_launcher.py:37: UserWarning: Implicit dimension choice for softmax has been deprecated. Change the call to include dim=X as an argument.\n",
      "100%|██████████| 10000/10000 [01:08<00:00, 145.69it/s]\n"
     ]
    }
   ],
   "source": [
    "# Train net on real\n",
    "train_loss = []\n",
    "train_acc = []\n",
    "test_loss = []\n",
    "test_acc = []\n",
    "alp_loss = []\n",
    "\n",
    "for c in tqdm(range(n_steps)):\n",
    "    # ALP Training\n",
    "    if ALP:\n",
    "        net_optimizer.zero_grad()\n",
    "        x_alp, _ = next(generator_alp)\n",
    "        x_alp = Variable(torch.from_numpy(x_alp).cuda())\n",
    "\n",
    "        clean_pred = net(x_alp).detach()\n",
    "        \n",
    "        noise = get_noise(x_alp.shape)\n",
    "        x_noisy = x_alp + noise * w_noise\n",
    "        x_noisy = torch.clamp(x_noisy, 0 ,1)\n",
    "        \n",
    "        net.eval()\n",
    "        noisy_pred = net(x_noisy)\n",
    "\n",
    "        distance = l2_loss(F.softmax(noisy_pred), F.softmax(clean_pred))\n",
    "        distance.backward()\n",
    "\n",
    "        attack = noise.grad\n",
    "        net_optimizer.zero_grad()\n",
    "\n",
    "        attack = ln_norm(attack)\n",
    "        attack.volatile=False\n",
    "        attack_pred = net(torch.clamp(x_alp + attack * w_attack, 0 ,1))\n",
    "          \n",
    "        loss = l2_loss(F.softmax(attack_pred), F.softmax(clean_pred))\n",
    "        if c%10==9:\n",
    "            alp_loss.append(loss.data)\n",
    "        net.train()\n",
    "    # Normal Training\n",
    "    net_optimizer.zero_grad()\n",
    "    x_train, y_train = next(generator_train) \n",
    "    x_train = Variable(torch.from_numpy(x_train).cuda())\n",
    "    y_train = Variable(torch.from_numpy(y_train).cuda())\n",
    "\n",
    "    y_pred = net(x_train)\n",
    "    if ALP: loss += criterion(y_pred, y_train)\n",
    "    else: loss = criterion(y_pred, y_train)\n",
    "    loss.backward()\n",
    "    net_optimizer.step()\n",
    "    \n",
    "    if c%10==9:\n",
    "        acc, loss = get_history(net, generator_train)\n",
    "        train_loss.append(loss)\n",
    "        train_acc.append(acc)\n",
    "        \n",
    "        \n",
    "        acc, loss = get_history(net, generator_test)\n",
    "        test_loss.append(loss)\n",
    "        test_acc.append(acc)\n"
   ]
  },
  {
   "cell_type": "code",
   "execution_count": 157,
   "metadata": {
    "code_folding": [
     1
    ],
    "collapsed": true
   },
   "outputs": [],
   "source": [
    "# Def Plotting Helfer\n",
    "def running_mean(x, N):\n",
    "    cumsum = np.cumsum(np.insert(x, 0, 0)) \n",
    "    return (cumsum[N:] - cumsum[:-N]) / float(N)"
   ]
  },
  {
   "cell_type": "code",
   "execution_count": 164,
   "metadata": {
    "code_folding": []
   },
   "outputs": [
    {
     "data": {
      "image/png": "[encoded data removed]",
      "text/plain": [
       "<matplotlib.figure.Figure at 0x7f3b4d4fe4e0>"
      ]
     },
     "metadata": {},
     "output_type": "display_data"
    }
   ],
   "source": [
    "# Plot Loss\n",
    "plt.title(\"Loss\")\n",
    "plt.semilogy(running_mean(train_loss, 20), label=\"Train\")\n",
    "plt.semilogy(running_mean(test_loss, 20), label=\"Test\")\n",
    "plt.semilogy(running_mean(alp_loss, 20), label=\"ALP\")\n",
    "plt.legend(loc=1)\n",
    "plt.grid()\n",
    "plt.tight_layout()"
   ]
  },
  {
   "cell_type": "code",
   "execution_count": 165,
   "metadata": {
    "code_folding": []
   },
   "outputs": [
    {
     "data": {
      "text/plain": [
       "<matplotlib.legend.Legend at 0x7f3b4d75c2e8>"
      ]
     },
     "execution_count": 165,
     "metadata": {},
     "output_type": "execute_result"
    },
    {
     "data": {
      "image/png": "[encoded data removed]",
      "text/plain": [
       "<matplotlib.figure.Figure at 0x7f3b4d6d3400>"
      ]
     },
     "metadata": {},
     "output_type": "display_data"
    }
   ],
   "source": [
    "# Plot Acc\n",
    "plt.title(\"Accuracy\")\n",
    "plt.plot(running_mean(train_acc, 50), label=\"Train\")\n",
    "plt.plot(running_mean(test_acc, 50), label=\"Test\")\n",
    "plt.grid()\n",
    "plt.legend(loc=4)"
   ]
  },
  {
   "cell_type": "code",
   "execution_count": null,
   "metadata": {
    "collapsed": true
   },
   "outputs": [],
   "source": []
  }
 ],
 "metadata": {
  "kernelspec": {
   "display_name": "Python 3",
   "language": "python",
   "name": "python3"
  },
  "language_info": {
   "codemirror_mode": {
    "name": "ipython",
    "version": 3
   },
   "file_extension": ".py",
   "mimetype": "text/x-python",
   "name": "python",
   "nbconvert_exporter": "python",
   "pygments_lexer": "ipython3",
   "version": "3.6.3"
  },
  "latex_envs": {
   "LaTeX_envs_menu_present": true,
   "autoclose": false,
   "autocomplete": true,
   "bibliofile": "biblio.bib",
   "cite_by": "apalike",
   "current_citInitial": 1,
   "eqLabelWithNumbers": true,
   "eqNumInitial": 1,
   "hotkeys": {
    "equation": "Ctrl-E",
    "itemize": "Ctrl-I"
   },
   "labels_anchors": false,
   "latex_user_defs": false,
   "report_style_numbering": false,
   "user_envs_cfg": false
  }
 },
 "nbformat": 4,
 "nbformat_minor": 2
}
